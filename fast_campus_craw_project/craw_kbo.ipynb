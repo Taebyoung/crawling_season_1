{
 "cells": [
  {
   "cell_type": "markdown",
   "metadata": {},
   "source": [
    "# 크롤링 프로젝트\n",
    "\n",
    "- 본 프로젝트는 FAST CAMPUS \"데이터 사이언스 취업완성 SCHOOL\" 의 박두진 강사님 지도하에  손형진이 진행하였습니다.\n",
    "\n",
    "## 1. 데이터 수집 목적 및 동기\n",
    "\n",
    "- 한국프로야구 관중수 즉 티켓판매 비용은 프로구단의 가장 큰 수입원 가운데 하나이다. 이에 따라, 직,간접적인 지표를 바탕으로 프로야구 관중수를 예측할 수 있다면, 그에 맞는 관중 유치 전략을 세우는데 도움을 줄 수 있다.\n",
    "- 특히, 프로야구 팀의 성적은 경기장으로 향하는 팬의 마음을 움직이게 하는 결정적인 요소 가운데 하나이다. 이에 따라, 본 프로젝트에서는 관중수를 예측하기 위해 반드시 필요한 일자별 팀의 성적을 KBO 웹사이트로부터 크롤링하고자 한다\n",
    "\n",
    "## 2. 데이터 수집 계획"
   ]
  },
  {
   "cell_type": "markdown",
   "metadata": {},
   "source": [
    "![process](images/process.png)"
   ]
  },
  {
   "cell_type": "markdown",
   "metadata": {},
   "source": [
    "## 3. 코드 시행"
   ]
  },
  {
   "cell_type": "code",
   "execution_count": 73,
   "metadata": {},
   "outputs": [
    {
     "name": "stdout",
     "output_type": "stream",
     "text": [
      "Overwriting requirements.txt\n"
     ]
    }
   ],
   "source": [
    "%%writefile requirements.txt\n",
    "\n",
    "아래 패키지는 본 크롤링을 위해 사용된 패키지입니다.\n",
    "\n",
    "import requests\n",
    "import json\n",
    "import scrapy\n",
    "import pandas as pd"
   ]
  },
  {
   "cell_type": "markdown",
   "metadata": {},
   "source": [
    "### 모듈 작성"
   ]
  },
  {
   "cell_type": "code",
   "execution_count": 29,
   "metadata": {},
   "outputs": [
    {
     "name": "stdout",
     "output_type": "stream",
     "text": [
      "Overwriting crawkbo.py\n"
     ]
    }
   ],
   "source": [
    "%%writefile crawkbo.py\n",
    "import requests\n",
    "import pandas as pd\n",
    "\n",
    "def kboresults(year, month, team):\n",
    "    game_dic = []\n",
    "    \n",
    "    # json url search and Query pattern search\n",
    "    for y in year:\n",
    "        for m in month:\n",
    "            for t in team:\n",
    "                url = \"https://www.koreabaseball.com/ws/Schedule.asmx/GetScheduleList?leId=1&srIdList=0%2C9&seasonId={}&gameMonth={}&teamId={}\".format(y, m, t)\n",
    "                # Request response\n",
    "                response = requests.get(url)\n",
    "                # Parsing\n",
    "                data = response.json()[\"rows\"]\n",
    "                \n",
    "                # Data select\n",
    "                for n in range(0,31):\n",
    "                    try:\n",
    "                        year_c = y \n",
    "                        date = data[n]['row'][0]['Text'] #날짜\n",
    "                        time = data[n]['row'][1]['Text'] #시간\n",
    "                        result = data[n]['row'][2]['Text'] #경기결과\n",
    "                        park = data[n]['row'][7]['Text']  #구장\n",
    "                        etc = data[n]['row'][8]['Text'] #비고\n",
    "                                \n",
    "                        game_dic.append({\n",
    "                            \"year\" : year_c,\n",
    "                            \"dates\" : date,\n",
    "                            \"times\" : time,\n",
    "                            \"results\" : result,\n",
    "                            \"parks\" : park,\n",
    "                            \"etcs\" : etc,            \n",
    "                            })\n",
    "                    \n",
    "                    except:\n",
    "                        break\n",
    "    \n",
    "    #Data processing\n",
    "    game = pd.DataFrame(game_dic)\n",
    "    game['times'] = game['times'].str.replace('<b>',' ').str.replace('</b>',' ')\n",
    "    game['results'] = game['results'].str.replace('<span class=\"win\">',' win ').str.replace('<span class=\"lose\">',' lose ').str.replace('<span class=\"same\">',' same ').str.replace('</span><span>',' ').str.replace('</span></em><span>',' ').str.replace('<span>','').str.replace('</span>','').str.replace('<em>','').str.replace('</em>','')\n",
    "    results_split = pd.DataFrame([x.split(' ') for x in sum([list([x]) for x in game[\"results\"]], [])])\n",
    "    dates_split = pd.DataFrame([x.split('(') for x in sum([list([x]) for x in game[\"dates\"]], [])])\n",
    "    game[\"away\"] = results_split[0]\n",
    "    game[\"homewin\"] = results_split[4]\n",
    "    game[\"home\"] = results_split[6]\n",
    "    game[\"weekday\"] = dates_split[1].str.replace(\")\",\"\")\n",
    "    game = game.drop([\"results\"],axis = 1)\n",
    "    game[\"dates\"] = game[\"year\"]+'/' + game[\"dates\"].str[:2] +\"/\" + game[\"dates\"].str[3:5]\n",
    "    game = game.drop([\"year\"],axis = 1)\n",
    "    game = game[[\"dates\", \"parks\", \"away\", \"home\", \"homewin\", \"etcs\", \"times\" ]]\n",
    "    game['dates'] = game['dates'].str.replace(\".\",\"/\")\n",
    "    game = game.drop_duplicates(subset=['dates','parks'], keep='first')\n",
    "    game.reset_index(drop=True, inplace=True)\n",
    "    \n",
    "    return game                "
   ]
  },
  {
   "cell_type": "markdown",
   "metadata": {},
   "source": [
    "### 모듈 시행"
   ]
  },
  {
   "cell_type": "code",
   "execution_count": 1,
   "metadata": {},
   "outputs": [],
   "source": [
    "import crawkbo"
   ]
  },
  {
   "cell_type": "code",
   "execution_count": 2,
   "metadata": {},
   "outputs": [],
   "source": [
    "year = [\"2017\", \"2018\", \"2019\"]\n",
    "month = [\"03\",\"04\",\"05\", \"06\", \"07\", \"08\", \"09\", \"10\"]\n",
    "team = [\"SK\", \"HH\", \"WO\", \"HT\", \"SS\", \"LT\", \"OB\", \"LG\",\"KT\",\"NC\"]"
   ]
  },
  {
   "cell_type": "code",
   "execution_count": 3,
   "metadata": {},
   "outputs": [],
   "source": [
    "game = crawkbo.kboresults(year, month, team)"
   ]
  },
  {
   "cell_type": "code",
   "execution_count": 4,
   "metadata": {},
   "outputs": [
    {
     "data": {
      "text/html": [
       "<div>\n",
       "<style scoped>\n",
       "    .dataframe tbody tr th:only-of-type {\n",
       "        vertical-align: middle;\n",
       "    }\n",
       "\n",
       "    .dataframe tbody tr th {\n",
       "        vertical-align: top;\n",
       "    }\n",
       "\n",
       "    .dataframe thead th {\n",
       "        text-align: right;\n",
       "    }\n",
       "</style>\n",
       "<table border=\"1\" class=\"dataframe\">\n",
       "  <thead>\n",
       "    <tr style=\"text-align: right;\">\n",
       "      <th></th>\n",
       "      <th>dates</th>\n",
       "      <th>parks</th>\n",
       "      <th>away</th>\n",
       "      <th>home</th>\n",
       "      <th>homewin</th>\n",
       "      <th>etcs</th>\n",
       "      <th>times</th>\n",
       "    </tr>\n",
       "  </thead>\n",
       "  <tbody>\n",
       "    <tr>\n",
       "      <th>0</th>\n",
       "      <td>2017/03/31</td>\n",
       "      <td>문학</td>\n",
       "      <td>KT</td>\n",
       "      <td>SK</td>\n",
       "      <td>lose</td>\n",
       "      <td>-</td>\n",
       "      <td>19:00</td>\n",
       "    </tr>\n",
       "    <tr>\n",
       "      <th>1</th>\n",
       "      <td>2017/03/31</td>\n",
       "      <td>잠실</td>\n",
       "      <td>한화</td>\n",
       "      <td>두산</td>\n",
       "      <td>win</td>\n",
       "      <td>-</td>\n",
       "      <td>19:00</td>\n",
       "    </tr>\n",
       "    <tr>\n",
       "      <th>2</th>\n",
       "      <td>2017/03/31</td>\n",
       "      <td>고척</td>\n",
       "      <td>LG</td>\n",
       "      <td>넥센</td>\n",
       "      <td>lose</td>\n",
       "      <td>-</td>\n",
       "      <td>19:00</td>\n",
       "    </tr>\n",
       "    <tr>\n",
       "      <th>3</th>\n",
       "      <td>2017/03/31</td>\n",
       "      <td>대구</td>\n",
       "      <td>KIA</td>\n",
       "      <td>삼성</td>\n",
       "      <td>lose</td>\n",
       "      <td>-</td>\n",
       "      <td>19:00</td>\n",
       "    </tr>\n",
       "    <tr>\n",
       "      <th>4</th>\n",
       "      <td>2017/03/31</td>\n",
       "      <td>마산</td>\n",
       "      <td>롯데</td>\n",
       "      <td>NC</td>\n",
       "      <td>win</td>\n",
       "      <td>-</td>\n",
       "      <td>19:00</td>\n",
       "    </tr>\n",
       "  </tbody>\n",
       "</table>\n",
       "</div>"
      ],
      "text/plain": [
       "        dates parks away home homewin etcs    times\n",
       "0  2017/03/31    문학   KT   SK    lose    -   19:00 \n",
       "1  2017/03/31    잠실   한화   두산     win    -   19:00 \n",
       "2  2017/03/31    고척   LG   넥센    lose    -   19:00 \n",
       "3  2017/03/31    대구  KIA   삼성    lose    -   19:00 \n",
       "4  2017/03/31    마산   롯데   NC     win    -   19:00 "
      ]
     },
     "execution_count": 4,
     "metadata": {},
     "output_type": "execute_result"
    }
   ],
   "source": [
    "game.head()"
   ]
  },
  {
   "cell_type": "markdown",
   "metadata": {},
   "source": [
    "**전처리전**\n",
    "![df_origin](images/df_origin.png)"
   ]
  },
  {
   "cell_type": "markdown",
   "metadata": {},
   "source": [
    "### 스크래피(scrapy)"
   ]
  },
  {
   "cell_type": "markdown",
   "metadata": {},
   "source": [
    "![scrapy_process](images/scrapy_process.png)"
   ]
  },
  {
   "cell_type": "markdown",
   "metadata": {},
   "source": [
    "#### item.py\n",
    "\n",
    "- 수집 대상: 연도(year), 날짜(dates), 시간(times), 결과(results), 구장(park), 비고(etc)"
   ]
  },
  {
   "cell_type": "code",
   "execution_count": 37,
   "metadata": {},
   "outputs": [
    {
     "name": "stdout",
     "output_type": "stream",
     "text": [
      "Overwriting crawler/crawler/items.py\n"
     ]
    }
   ],
   "source": [
    "%%writefile crawler/crawler/items.py\n",
    "import scrapy\n",
    "\n",
    "class CrawlerItem(scrapy.Item):\n",
    "    year = scrapy.Field()\n",
    "    dates = scrapy.Field()\n",
    "    times = scrapy.Field()\n",
    "    results = scrapy.Field()\n",
    "    parks = scrapy.Field()\n",
    "    etcs = scrapy.Field()"
   ]
  },
  {
   "cell_type": "markdown",
   "metadata": {},
   "source": [
    "#### spider.py"
   ]
  },
  {
   "cell_type": "code",
   "execution_count": 50,
   "metadata": {
    "scrolled": true
   },
   "outputs": [
    {
     "name": "stdout",
     "output_type": "stream",
     "text": [
      "Overwriting crawler/crawler/spiders/spider.py\n"
     ]
    }
   ],
   "source": [
    "%%writefile crawler/crawler/spiders/spider.py\n",
    "import scrapy\n",
    "import requests\n",
    "import json\n",
    "from crawler.items import CrawlerItem\n",
    "\n",
    "class Spider(scrapy.Spider):\n",
    "    name = \"KBO\"\n",
    "\n",
    "    def start_requests(self):\n",
    "        year = [\"2017\", \"2018\", \"2019\"]\n",
    "        month = [\"03\",\"04\",\"05\", \"06\", \"07\", \"08\", \"09\", \"10\"]\n",
    "        team = [\"SK\", \"HH\", \"WO\", \"HT\", \"SS\", \"LT\", \"OB\", \"LG\",\"KT\",\"NC\"]\n",
    "        for self.y in year:\n",
    "            for m in month:\n",
    "                for t in team:\n",
    "                    url = \"https://www.koreabaseball.com/ws/Schedule.asmx/GetScheduleList?leId=1&srIdList=0%2C9&seasonId={}&gameMonth={}&teamId={}\".format(self.y, m, t)\n",
    "                    yield scrapy.Request(url, callback=self.match_parse)\n",
    " \n",
    "    def match_parse(self, response):\n",
    "        item = CrawlerItem()\n",
    "        for n in range(0,31):\n",
    "            try:\n",
    "                item[\"year\"] = self.y\n",
    "                item[\"dates\"] = json.loads(response.body)[\"rows\"][n]['row'][0]['Text'] #날짜\n",
    "                time = json.loads(response.body)[\"rows\"][n]['row'][1]['Text'] #시간\n",
    "                item[\"times\"] = time.replace(\"<b>\", \"\").replace(\"</b>\", \"\")\n",
    "                result = json.loads(response.body)[\"rows\"][n]['row'][2]['Text'] #경기결과\n",
    "                item[\"results\"] = result.replace('<span class=\"win\">',' win ').replace('<span class=\"lose\">',' lose ').replace('<span class=\"same\">',' same ').replace('</span><span>',' ').replace('</span></em><span>',' ').replace('<span>','').replace('</span>','').replace('<em>','').replace('</em>','')\n",
    "                item[\"parks\"] = json.loads(response.body)[\"rows\"][n]['row'][7]['Text']  #구장\n",
    "                item[\"etcs\"] = json.loads(response.body)[\"rows\"][n]['row'][8]['Text'] #비고\n",
    "                yield item\n",
    "  \n",
    "            except:\n",
    "                break"
   ]
  },
  {
   "cell_type": "markdown",
   "metadata": {},
   "source": [
    "#### mongodb.py"
   ]
  },
  {
   "cell_type": "code",
   "execution_count": 34,
   "metadata": {
    "scrolled": true
   },
   "outputs": [
    {
     "name": "stdout",
     "output_type": "stream",
     "text": [
      "Overwriting crawler/crawler/mongodb.py\n"
     ]
    }
   ],
   "source": [
    "%%writefile crawler/crawler/mongodb.py\n",
    "\n",
    "import pymongo\n",
    "\n",
    "client = pymongo.MongoClient('mongodb://52.79.169.68/:27017/')\n",
    "db = client.KBO\n",
    "collection = db.game"
   ]
  },
  {
   "cell_type": "markdown",
   "metadata": {},
   "source": [
    "#### pipelines.py"
   ]
  },
  {
   "cell_type": "code",
   "execution_count": 44,
   "metadata": {
    "scrolled": true
   },
   "outputs": [
    {
     "name": "stdout",
     "output_type": "stream",
     "text": [
      "Overwriting crawler/crawler/pipelines.py\n"
     ]
    }
   ],
   "source": [
    "%%writefile crawler/crawler/pipelines.py\n",
    "from .mongodb import collection\n",
    "\n",
    "class CrawlerPipeline(object):\n",
    "    \n",
    "    def process_item(self, item, spider):\n",
    "        \n",
    "        data = { \"year\": item[\"year\"],\n",
    "                 \"dates\": item[\"dates\"], \n",
    "                 \"times\": item[\"times\"],\n",
    "                 \"results\": item[\"results\"], \n",
    "                 \"parks\": item[\"parks\"],\n",
    "                 \"etcs\": item[\"etcs\"],\n",
    "               }\n",
    "        \n",
    "        collection.insert(data)\n",
    "        \n",
    "        return item"
   ]
  },
  {
   "cell_type": "markdown",
   "metadata": {},
   "source": [
    "#### settings.py"
   ]
  },
  {
   "cell_type": "code",
   "execution_count": 50,
   "metadata": {},
   "outputs": [],
   "source": [
    "!echo \"ITEM_PIPELINES = {\"  >> crawler/crawler/settings.py"
   ]
  },
  {
   "cell_type": "code",
   "execution_count": 51,
   "metadata": {},
   "outputs": [],
   "source": [
    "!echo \"   'crawler.pipelines.CrawlerPipeline': 300,\" >> crawler/crawler/settings.py"
   ]
  },
  {
   "cell_type": "code",
   "execution_count": 52,
   "metadata": {},
   "outputs": [],
   "source": [
    "!echo \"}\" >> crawler/crawler/settings.py"
   ]
  },
  {
   "cell_type": "code",
   "execution_count": 1,
   "metadata": {
    "scrolled": true
   },
   "outputs": [
    {
     "name": "stdout",
     "output_type": "stream",
     "text": [
      "#HTTPCACHE_STORAGE = 'scrapy.extensions.httpcache.FilesystemCacheStorage'\r\n",
      "\r\n",
      "ITEM_PIPELINES = {\r\n",
      "        'crawler.pipelines.CrawlerPipeline':300,\r\n",
      "        }\r\n"
     ]
    }
   ],
   "source": [
    "!tail -n 5 crawler/crawler/settings.py"
   ]
  },
  {
   "cell_type": "markdown",
   "metadata": {},
   "source": [
    "#### run.sh"
   ]
  },
  {
   "cell_type": "code",
   "execution_count": 10,
   "metadata": {
    "scrolled": true
   },
   "outputs": [
    {
     "name": "stdout",
     "output_type": "stream",
     "text": [
      "Overwriting run.sh\n"
     ]
    }
   ],
   "source": [
    "%%writefile run.sh\n",
    "cd crawler\n",
    "scrapy crawl KBO -o KBO_results.csv"
   ]
  },
  {
   "cell_type": "code",
   "execution_count": null,
   "metadata": {},
   "outputs": [],
   "source": [
    "!./run.sh"
   ]
  },
  {
   "cell_type": "code",
   "execution_count": 69,
   "metadata": {},
   "outputs": [],
   "source": [
    "import pandas as pd"
   ]
  },
  {
   "cell_type": "code",
   "execution_count": 70,
   "metadata": {},
   "outputs": [
    {
     "data": {
      "text/html": [
       "<div>\n",
       "<style scoped>\n",
       "    .dataframe tbody tr th:only-of-type {\n",
       "        vertical-align: middle;\n",
       "    }\n",
       "\n",
       "    .dataframe tbody tr th {\n",
       "        vertical-align: top;\n",
       "    }\n",
       "\n",
       "    .dataframe thead th {\n",
       "        text-align: right;\n",
       "    }\n",
       "</style>\n",
       "<table border=\"1\" class=\"dataframe\">\n",
       "  <thead>\n",
       "    <tr style=\"text-align: right;\">\n",
       "      <th></th>\n",
       "      <th>dates</th>\n",
       "      <th>etcs</th>\n",
       "      <th>parks</th>\n",
       "      <th>results</th>\n",
       "      <th>times</th>\n",
       "      <th>year</th>\n",
       "    </tr>\n",
       "  </thead>\n",
       "  <tbody>\n",
       "    <tr>\n",
       "      <th>0</th>\n",
       "      <td>03.31(금)</td>\n",
       "      <td>-</td>\n",
       "      <td>대구</td>\n",
       "      <td>KIA win 7 vs lose 2 삼성</td>\n",
       "      <td>19:00</td>\n",
       "      <td>2017</td>\n",
       "    </tr>\n",
       "    <tr>\n",
       "      <th>1</th>\n",
       "      <td>03.31(금)</td>\n",
       "      <td>-</td>\n",
       "      <td>대구</td>\n",
       "      <td>KIA win 7 vs lose 2 삼성</td>\n",
       "      <td>19:00</td>\n",
       "      <td>2017</td>\n",
       "    </tr>\n",
       "    <tr>\n",
       "      <th>2</th>\n",
       "      <td>03.31(금)</td>\n",
       "      <td>-</td>\n",
       "      <td>잠실</td>\n",
       "      <td>한화 lose 0 vs win 3 두산</td>\n",
       "      <td>19:00</td>\n",
       "      <td>2017</td>\n",
       "    </tr>\n",
       "    <tr>\n",
       "      <th>3</th>\n",
       "      <td>03.31(금)</td>\n",
       "      <td>-</td>\n",
       "      <td>고척</td>\n",
       "      <td>LG win 2 vs lose 1 넥센</td>\n",
       "      <td>19:00</td>\n",
       "      <td>2017</td>\n",
       "    </tr>\n",
       "    <tr>\n",
       "      <th>4</th>\n",
       "      <td>03.31(금)</td>\n",
       "      <td>-</td>\n",
       "      <td>고척</td>\n",
       "      <td>LG win 2 vs lose 1 넥센</td>\n",
       "      <td>19:00</td>\n",
       "      <td>2017</td>\n",
       "    </tr>\n",
       "  </tbody>\n",
       "</table>\n",
       "</div>"
      ],
      "text/plain": [
       "      dates etcs parks                 results  times  year\n",
       "0  03.31(금)    -    대구  KIA win 7 vs lose 2 삼성  19:00  2017\n",
       "1  03.31(금)    -    대구  KIA win 7 vs lose 2 삼성  19:00  2017\n",
       "2  03.31(금)    -    잠실   한화 lose 0 vs win 3 두산  19:00  2017\n",
       "3  03.31(금)    -    고척   LG win 2 vs lose 1 넥센  19:00  2017\n",
       "4  03.31(금)    -    고척   LG win 2 vs lose 1 넥센  19:00  2017"
      ]
     },
     "execution_count": 70,
     "metadata": {},
     "output_type": "execute_result"
    }
   ],
   "source": [
    "df = pd.read_csv(\"crawler/KBO_results.csv\")\n",
    "df.head(5)"
   ]
  },
  {
   "cell_type": "code",
   "execution_count": 71,
   "metadata": {
    "scrolled": true
   },
   "outputs": [],
   "source": [
    "results_split = pd.DataFrame([x.split(' ') for x in sum([list([x]) for x in df[\"results\"]], [])])\n",
    "dates_split = pd.DataFrame([x.split('(') for x in sum([list([x]) for x in df[\"dates\"]], [])])\n",
    "df[\"away\"] = results_split[0]\n",
    "df[\"homewin\"] = results_split[4]\n",
    "df[\"home\"] = results_split[6]\n",
    "df[\"weekday\"] = dates_split[1].str.replace(\")\",\"\")\n",
    "df = df.drop([\"results\"],axis = 1)\n",
    "df[\"dates\"] = df[\"year\"].astype(str)+'/' + df[\"dates\"].str[:2] +\"/\" + df[\"dates\"].str[3:5]\n",
    "df = df.drop([\"year\"],axis = 1)\n",
    "df = df[[\"dates\", \"parks\", \"away\", \"home\", \"homewin\", \"etcs\", \"times\" ]]\n",
    "df['dates'] = df['dates'].str.replace(\".\",\"/\")\n",
    "df = df.drop_duplicates(subset=['dates','parks'], keep='first')\n",
    "df.reset_index(drop=True, inplace=True)"
   ]
  },
  {
   "cell_type": "code",
   "execution_count": 72,
   "metadata": {},
   "outputs": [
    {
     "data": {
      "text/html": [
       "<div>\n",
       "<style scoped>\n",
       "    .dataframe tbody tr th:only-of-type {\n",
       "        vertical-align: middle;\n",
       "    }\n",
       "\n",
       "    .dataframe tbody tr th {\n",
       "        vertical-align: top;\n",
       "    }\n",
       "\n",
       "    .dataframe thead th {\n",
       "        text-align: right;\n",
       "    }\n",
       "</style>\n",
       "<table border=\"1\" class=\"dataframe\">\n",
       "  <thead>\n",
       "    <tr style=\"text-align: right;\">\n",
       "      <th></th>\n",
       "      <th>dates</th>\n",
       "      <th>parks</th>\n",
       "      <th>away</th>\n",
       "      <th>home</th>\n",
       "      <th>homewin</th>\n",
       "      <th>etcs</th>\n",
       "      <th>times</th>\n",
       "    </tr>\n",
       "  </thead>\n",
       "  <tbody>\n",
       "    <tr>\n",
       "      <th>0</th>\n",
       "      <td>2017/03/31</td>\n",
       "      <td>대구</td>\n",
       "      <td>KIA</td>\n",
       "      <td>삼성</td>\n",
       "      <td>lose</td>\n",
       "      <td>-</td>\n",
       "      <td>19:00</td>\n",
       "    </tr>\n",
       "    <tr>\n",
       "      <th>1</th>\n",
       "      <td>2017/03/31</td>\n",
       "      <td>잠실</td>\n",
       "      <td>한화</td>\n",
       "      <td>두산</td>\n",
       "      <td>win</td>\n",
       "      <td>-</td>\n",
       "      <td>19:00</td>\n",
       "    </tr>\n",
       "    <tr>\n",
       "      <th>2</th>\n",
       "      <td>2017/03/31</td>\n",
       "      <td>고척</td>\n",
       "      <td>LG</td>\n",
       "      <td>넥센</td>\n",
       "      <td>lose</td>\n",
       "      <td>-</td>\n",
       "      <td>19:00</td>\n",
       "    </tr>\n",
       "    <tr>\n",
       "      <th>3</th>\n",
       "      <td>2017/03/31</td>\n",
       "      <td>마산</td>\n",
       "      <td>롯데</td>\n",
       "      <td>NC</td>\n",
       "      <td>win</td>\n",
       "      <td>-</td>\n",
       "      <td>19:00</td>\n",
       "    </tr>\n",
       "    <tr>\n",
       "      <th>4</th>\n",
       "      <td>2017/03/31</td>\n",
       "      <td>문학</td>\n",
       "      <td>KT</td>\n",
       "      <td>SK</td>\n",
       "      <td>lose</td>\n",
       "      <td>-</td>\n",
       "      <td>19:00</td>\n",
       "    </tr>\n",
       "  </tbody>\n",
       "</table>\n",
       "</div>"
      ],
      "text/plain": [
       "        dates parks away home homewin etcs  times\n",
       "0  2017/03/31    대구  KIA   삼성    lose    -  19:00\n",
       "1  2017/03/31    잠실   한화   두산     win    -  19:00\n",
       "2  2017/03/31    고척   LG   넥센    lose    -  19:00\n",
       "3  2017/03/31    마산   롯데   NC     win    -  19:00\n",
       "4  2017/03/31    문학   KT   SK    lose    -  19:00"
      ]
     },
     "execution_count": 72,
     "metadata": {},
     "output_type": "execute_result"
    }
   ],
   "source": [
    "df.head()"
   ]
  },
  {
   "cell_type": "markdown",
   "metadata": {},
   "source": [
    "### pymongo 데이터 불러오기"
   ]
  },
  {
   "cell_type": "code",
   "execution_count": 17,
   "metadata": {},
   "outputs": [],
   "source": [
    "import pymongo"
   ]
  },
  {
   "cell_type": "code",
   "execution_count": 18,
   "metadata": {},
   "outputs": [
    {
     "data": {
      "text/plain": [
       "MongoClient('52.79.169.68', 27017)"
      ]
     },
     "execution_count": 18,
     "metadata": {},
     "output_type": "execute_result"
    }
   ],
   "source": [
    "client = pymongo.MongoClient('mongodb:___')\n",
    "client"
   ]
  },
  {
   "cell_type": "code",
   "execution_count": 20,
   "metadata": {},
   "outputs": [],
   "source": [
    "result = client.KBO.game.find()"
   ]
  },
  {
   "cell_type": "code",
   "execution_count": 22,
   "metadata": {},
   "outputs": [
    {
     "data": {
      "text/html": [
       "<div>\n",
       "<style scoped>\n",
       "    .dataframe tbody tr th:only-of-type {\n",
       "        vertical-align: middle;\n",
       "    }\n",
       "\n",
       "    .dataframe tbody tr th {\n",
       "        vertical-align: top;\n",
       "    }\n",
       "\n",
       "    .dataframe thead th {\n",
       "        text-align: right;\n",
       "    }\n",
       "</style>\n",
       "<table border=\"1\" class=\"dataframe\">\n",
       "  <thead>\n",
       "    <tr style=\"text-align: right;\">\n",
       "      <th></th>\n",
       "      <th>_id</th>\n",
       "      <th>dates</th>\n",
       "      <th>etcs</th>\n",
       "      <th>parks</th>\n",
       "      <th>results</th>\n",
       "      <th>times</th>\n",
       "    </tr>\n",
       "  </thead>\n",
       "  <tbody>\n",
       "    <tr>\n",
       "      <th>912</th>\n",
       "      <td>5df278b1301c9c3aaa4c7142</td>\n",
       "      <td>07.23(목)</td>\n",
       "      <td>-</td>\n",
       "      <td>잠실</td>\n",
       "      <td>롯데 win 6 vs lose 4 두산</td>\n",
       "      <td>18:30</td>\n",
       "    </tr>\n",
       "    <tr>\n",
       "      <th>913</th>\n",
       "      <td>5df278b1301c9c3aaa4c7143</td>\n",
       "      <td>07.28(화)</td>\n",
       "      <td>-</td>\n",
       "      <td>대전</td>\n",
       "      <td>두산 win 7 vs lose 2 한화</td>\n",
       "      <td>18:30</td>\n",
       "    </tr>\n",
       "    <tr>\n",
       "      <th>914</th>\n",
       "      <td>5df278b1301c9c3aaa4c7144</td>\n",
       "      <td>07.29(수)</td>\n",
       "      <td>-</td>\n",
       "      <td>대전</td>\n",
       "      <td>두산 lose 3 vs win 7 한화</td>\n",
       "      <td>18:30</td>\n",
       "    </tr>\n",
       "    <tr>\n",
       "      <th>915</th>\n",
       "      <td>5df278b1301c9c3aaa4c7145</td>\n",
       "      <td>07.30(목)</td>\n",
       "      <td>-</td>\n",
       "      <td>대전</td>\n",
       "      <td>두산 win 2 vs lose 1 한화</td>\n",
       "      <td>18:30</td>\n",
       "    </tr>\n",
       "    <tr>\n",
       "      <th>916</th>\n",
       "      <td>5df278b1301c9c3aaa4c7146</td>\n",
       "      <td>07.31(금)</td>\n",
       "      <td>-</td>\n",
       "      <td>잠실</td>\n",
       "      <td>SK lose 4 vs win 6 두산</td>\n",
       "      <td>18:30</td>\n",
       "    </tr>\n",
       "  </tbody>\n",
       "</table>\n",
       "</div>"
      ],
      "text/plain": [
       "                          _id     dates etcs parks                results  \\\n",
       "912  5df278b1301c9c3aaa4c7142  07.23(목)    -    잠실  롯데 win 6 vs lose 4 두산   \n",
       "913  5df278b1301c9c3aaa4c7143  07.28(화)    -    대전  두산 win 7 vs lose 2 한화   \n",
       "914  5df278b1301c9c3aaa4c7144  07.29(수)    -    대전  두산 lose 3 vs win 7 한화   \n",
       "915  5df278b1301c9c3aaa4c7145  07.30(목)    -    대전  두산 win 2 vs lose 1 한화   \n",
       "916  5df278b1301c9c3aaa4c7146  07.31(금)    -    잠실  SK lose 4 vs win 6 두산   \n",
       "\n",
       "     times  \n",
       "912  18:30  \n",
       "913  18:30  \n",
       "914  18:30  \n",
       "915  18:30  \n",
       "916  18:30  "
      ]
     },
     "execution_count": 22,
     "metadata": {},
     "output_type": "execute_result"
    }
   ],
   "source": [
    "pd.DataFrame(result).tail()"
   ]
  },
  {
   "cell_type": "markdown",
   "metadata": {},
   "source": [
    "from .mongodb import collection"
   ]
  },
  {
   "cell_type": "markdown",
   "metadata": {},
   "source": [
    "## 4.회고\n",
    "- 스크래피를 통해 전처리 과정을 모두 담지 못했다는 점\n",
    "- 파이몽고를 noSQL 쿼리를 많이 써보지 못했다는 점"
   ]
  }
 ],
 "metadata": {
  "kernelspec": {
   "display_name": "Python 3",
   "language": "python",
   "name": "python3"
  },
  "language_info": {
   "codemirror_mode": {
    "name": "ipython",
    "version": 3
   },
   "file_extension": ".py",
   "mimetype": "text/x-python",
   "name": "python",
   "nbconvert_exporter": "python",
   "pygments_lexer": "ipython3",
   "version": "3.7.4"
  }
 },
 "nbformat": 4,
 "nbformat_minor": 2
}
